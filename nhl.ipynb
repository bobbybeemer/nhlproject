{
 "cells": [
  {
   "cell_type": "code",
   "execution_count": 17,
   "metadata": {},
   "outputs": [],
   "source": [
    "# import statements\n",
    "\n",
    "import numpy as np\n",
    "import pandas as pd\n",
    "import matplotlib.pyplot as plt\n",
    "import seaborn as sb\n",
    "import requests\n",
    "from datetime import date"
   ]
  },
  {
   "cell_type": "code",
   "execution_count": 40,
   "metadata": {},
   "outputs": [],
   "source": [
    "# setting constants\n",
    "\n",
    "BASE = \"https://statsapi.web.nhl.com/api/v1/teams\"\n",
    "YEAR = str(date.today())[:4]"
   ]
  },
  {
   "cell_type": "code",
   "execution_count": 43,
   "metadata": {},
   "outputs": [],
   "source": [
    "# creating a dictionary where the keys are team names, and values are the corresponding ids\n",
    "\n",
    "response = requests.get(BASE).json()[\"teams\"]\n",
    "TEAMS = dict()\n",
    "for team in response:\n",
    "    TEAMS[team[\"teamName\"]] = team[\"id\"]"
   ]
  },
  {
   "cell_type": "code",
   "execution_count": 62,
   "metadata": {},
   "outputs": [],
   "source": [
    "# this function returns a list of major stats for the team in this regular season\n",
    "# returns a tuple with the values for each stat in the first position, and the rank for each stat in the second\n",
    "\n",
    "def get_team_stats(team_name):\n",
    "    try:\n",
    "        team_id = TEAMS[team_name]\n",
    "        response = requests.get(BASE + \"/\" + str(team_id) + \"?expand=team.stats\").json()\n",
    "        values = response[\"teams\"][0][\"teamStats\"][0][\"splits\"][0][\"stat\"]\n",
    "        rank = response[\"teams\"][0][\"teamStats\"][0][\"splits\"][1][\"stat\"]\n",
    "        return values, rank\n",
    "    except KeyError:\n",
    "        return \"Invalid team name\""
   ]
  }
 ],
 "metadata": {
  "interpreter": {
   "hash": "87b71b5a4a00ed4453c404e0e9a04c92f1566e390777a76370c80edb71634b9c"
  },
  "kernelspec": {
   "display_name": "Python 3.9.7 64-bit",
   "language": "python",
   "name": "python3"
  },
  "language_info": {
   "codemirror_mode": {
    "name": "ipython",
    "version": 3
   },
   "file_extension": ".py",
   "mimetype": "text/x-python",
   "name": "python",
   "nbconvert_exporter": "python",
   "pygments_lexer": "ipython3",
   "version": "3.9.7"
  },
  "orig_nbformat": 4
 },
 "nbformat": 4,
 "nbformat_minor": 2
}
